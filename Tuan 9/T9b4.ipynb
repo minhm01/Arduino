{
  "nbformat": 4,
  "nbformat_minor": 0,
  "metadata": {
    "colab": {
      "name": "T9b4.ipynb",
      "provenance": [],
      "authorship_tag": "ABX9TyMNgYza8jOjKChWaghb6MkT",
      "include_colab_link": true
    },
    "kernelspec": {
      "name": "python3",
      "display_name": "Python 3"
    }
  },
  "cells": [
    {
      "cell_type": "markdown",
      "metadata": {
        "id": "view-in-github",
        "colab_type": "text"
      },
      "source": [
        "<a href=\"https://colab.research.google.com/github/minhm01/Arduino/blob/master/Tuan%209/T9b4.ipynb\" target=\"_parent\"><img src=\"https://colab.research.google.com/assets/colab-badge.svg\" alt=\"Open In Colab\"/></a>"
      ]
    },
    {
      "cell_type": "code",
      "metadata": {
        "id": "2BImYwm9KqaK",
        "colab": {
          "base_uri": "https://localhost:8080/",
          "height": 204
        },
        "outputId": "1ef58c29-3c00-403f-b103-ef0c4eacb41a"
      },
      "source": [
        "import pandas as pd\r\n",
        "import seaborn as sns\r\n",
        "import matplotlib.pyplot as plt\r\n",
        "df = pd.read_excel('45. KQ_L1_21-11-2020.xlsx')\r\n",
        "df.head()"
      ],
      "execution_count": 19,
      "outputs": [
        {
          "output_type": "execute_result",
          "data": {
            "text/html": [
              "<div>\n",
              "<style scoped>\n",
              "    .dataframe tbody tr th:only-of-type {\n",
              "        vertical-align: middle;\n",
              "    }\n",
              "\n",
              "    .dataframe tbody tr th {\n",
              "        vertical-align: top;\n",
              "    }\n",
              "\n",
              "    .dataframe thead th {\n",
              "        text-align: right;\n",
              "    }\n",
              "</style>\n",
              "<table border=\"1\" class=\"dataframe\">\n",
              "  <thead>\n",
              "    <tr style=\"text-align: right;\">\n",
              "      <th></th>\n",
              "      <th>STT</th>\n",
              "      <th>Mã SV</th>\n",
              "      <th>Họ</th>\n",
              "      <th>Tên</th>\n",
              "      <th>Ngày Sinh</th>\n",
              "      <th>Nơi Sinh</th>\n",
              "      <th>Lý Thuyết</th>\n",
              "      <th>Win_Word</th>\n",
              "      <th>Excel</th>\n",
              "      <th>Powerpoint</th>\n",
              "      <th>Lý Thuyết.1</th>\n",
              "      <th>Thực Hành</th>\n",
              "      <th>Xếp loại</th>\n",
              "      <th>G. Chú</th>\n",
              "    </tr>\n",
              "  </thead>\n",
              "  <tbody>\n",
              "    <tr>\n",
              "      <th>0</th>\n",
              "      <td>1</td>\n",
              "      <td>15110181</td>\n",
              "      <td>Nguyễn Cao Thiên</td>\n",
              "      <td>An</td>\n",
              "      <td>1997-06-13 00:00:00</td>\n",
              "      <td>Quảng Ngãi</td>\n",
              "      <td>2.5</td>\n",
              "      <td>3.0</td>\n",
              "      <td>0.0</td>\n",
              "      <td>4.0</td>\n",
              "      <td>2.5</td>\n",
              "      <td>2.0</td>\n",
              "      <td>Không đạt</td>\n",
              "      <td>CB135,136</td>\n",
              "    </tr>\n",
              "    <tr>\n",
              "      <th>1</th>\n",
              "      <td>2</td>\n",
              "      <td>17027851</td>\n",
              "      <td>Nguyễn Thị Thúy</td>\n",
              "      <td>An</td>\n",
              "      <td>1999-04-30 00:00:00</td>\n",
              "      <td>Tây Ninh</td>\n",
              "      <td>0.0</td>\n",
              "      <td>0.0</td>\n",
              "      <td>0.0</td>\n",
              "      <td>0.0</td>\n",
              "      <td>0.0</td>\n",
              "      <td>0.0</td>\n",
              "      <td>Không đạt</td>\n",
              "      <td>CB135,136</td>\n",
              "    </tr>\n",
              "    <tr>\n",
              "      <th>2</th>\n",
              "      <td>3</td>\n",
              "      <td>17081551</td>\n",
              "      <td>Nguyễn Thị Xuân</td>\n",
              "      <td>An</td>\n",
              "      <td>1999-01-01 00:00:00</td>\n",
              "      <td>TP. HCM</td>\n",
              "      <td>6.0</td>\n",
              "      <td>3.5</td>\n",
              "      <td>7.0</td>\n",
              "      <td>7.0</td>\n",
              "      <td>6.0</td>\n",
              "      <td>5.6</td>\n",
              "      <td>Đạt</td>\n",
              "      <td>CB134</td>\n",
              "    </tr>\n",
              "    <tr>\n",
              "      <th>3</th>\n",
              "      <td>4</td>\n",
              "      <td>18019591</td>\n",
              "      <td>Thái Phúc</td>\n",
              "      <td>An</td>\n",
              "      <td>2000-03-29 00:00:00</td>\n",
              "      <td>Tiền Giang</td>\n",
              "      <td>5.0</td>\n",
              "      <td>3.0</td>\n",
              "      <td>0.0</td>\n",
              "      <td>0.0</td>\n",
              "      <td>5.0</td>\n",
              "      <td>1.2</td>\n",
              "      <td>Không đạt</td>\n",
              "      <td>CB135,136</td>\n",
              "    </tr>\n",
              "    <tr>\n",
              "      <th>4</th>\n",
              "      <td>5</td>\n",
              "      <td>18010291</td>\n",
              "      <td>Trần Khắc</td>\n",
              "      <td>An</td>\n",
              "      <td>2000-03-16 00:00:00</td>\n",
              "      <td>Long An</td>\n",
              "      <td>4.5</td>\n",
              "      <td>4.0</td>\n",
              "      <td>1.0</td>\n",
              "      <td>5.0</td>\n",
              "      <td>4.5</td>\n",
              "      <td>3.0</td>\n",
              "      <td>Không đạt</td>\n",
              "      <td>CB135,136</td>\n",
              "    </tr>\n",
              "  </tbody>\n",
              "</table>\n",
              "</div>"
            ],
            "text/plain": [
              "   STT     Mã SV                Họ  ... Thực Hành   Xếp loại     G. Chú\n",
              "0    1  15110181  Nguyễn Cao Thiên  ...       2.0  Không đạt  CB135,136\n",
              "1    2  17027851   Nguyễn Thị Thúy  ...       0.0  Không đạt  CB135,136\n",
              "2    3  17081551   Nguyễn Thị Xuân  ...       5.6        Đạt      CB134\n",
              "3    4  18019591         Thái Phúc  ...       1.2  Không đạt  CB135,136\n",
              "4    5  18010291         Trần Khắc  ...       3.0  Không đạt  CB135,136\n",
              "\n",
              "[5 rows x 14 columns]"
            ]
          },
          "metadata": {
            "tags": []
          },
          "execution_count": 19
        }
      ]
    },
    {
      "cell_type": "code",
      "metadata": {
        "id": "bfU5FbLgLqiL",
        "colab": {
          "base_uri": "https://localhost:8080/"
        },
        "outputId": "cb7b069a-3024-409f-b6fe-56c4c018b2da"
      },
      "source": [
        "df.info()"
      ],
      "execution_count": 4,
      "outputs": [
        {
          "output_type": "stream",
          "text": [
            "<class 'pandas.core.frame.DataFrame'>\n",
            "RangeIndex: 594 entries, 0 to 593\n",
            "Data columns (total 14 columns):\n",
            " #   Column       Non-Null Count  Dtype  \n",
            "---  ------       --------------  -----  \n",
            " 0   STT          594 non-null    int64  \n",
            " 1   Mã SV        594 non-null    int64  \n",
            " 2   Họ           594 non-null    object \n",
            " 3   Tên          594 non-null    object \n",
            " 4   Ngày Sinh    576 non-null    object \n",
            " 5   Nơi Sinh     576 non-null    object \n",
            " 6   Lý Thuyết    594 non-null    float64\n",
            " 7   Win_Word     594 non-null    float64\n",
            " 8   Excel        594 non-null    float64\n",
            " 9   Powerpoint   594 non-null    float64\n",
            " 10  Lý Thuyết.1  594 non-null    float64\n",
            " 11  Thực Hành    594 non-null    float64\n",
            " 12  Xếp loại     594 non-null    object \n",
            " 13  G. Chú       594 non-null    object \n",
            "dtypes: float64(6), int64(2), object(6)\n",
            "memory usage: 65.1+ KB\n"
          ],
          "name": "stdout"
        }
      ]
    },
    {
      "cell_type": "code",
      "metadata": {
        "colab": {
          "base_uri": "https://localhost:8080/",
          "height": 510
        },
        "id": "i6Io9UP3Z9V8",
        "outputId": "0b1e4660-4d27-4f0a-a5a8-9f8219e1a6c0"
      },
      "source": [
        "dm=['Lý Thuyết','Win_Word','Excel','Powerpoint','Lý Thuyết.1','Thực Hành']\r\n",
        "df[dm].hist(bins=15, figsize=(15, 6), layout=(2, 3))"
      ],
      "execution_count": 20,
      "outputs": [
        {
          "output_type": "execute_result",
          "data": {
            "text/plain": [
              "array([[<matplotlib.axes._subplots.AxesSubplot object at 0x7f469d864fd0>,\n",
              "        <matplotlib.axes._subplots.AxesSubplot object at 0x7f469d790358>,\n",
              "        <matplotlib.axes._subplots.AxesSubplot object at 0x7f469d7fde10>],\n",
              "       [<matplotlib.axes._subplots.AxesSubplot object at 0x7f469d7a3550>,\n",
              "        <matplotlib.axes._subplots.AxesSubplot object at 0x7f469d6eed30>,\n",
              "        <matplotlib.axes._subplots.AxesSubplot object at 0x7f469d69ff98>]],\n",
              "      dtype=object)"
            ]
          },
          "metadata": {
            "tags": []
          },
          "execution_count": 20
        },
        {
          "output_type": "display_data",
          "data": {
            "image/png": "[encoded data removed]",
            "text/plain": [
              "<Figure size 1080x432 with 6 Axes>"
            ]
          },
          "metadata": {
            "tags": [],
            "needs_background": "light"
          }
        }
      ]
    },
    {
      "cell_type": "code",
      "metadata": {
        "colab": {
          "base_uri": "https://localhost:8080/",
          "height": 458
        },
        "id": "gsJ-NRY1ahPN",
        "outputId": "e07188f4-8d7d-4837-b052-924197382446"
      },
      "source": [
        "sns.jointplot(x=df['Lý Thuyết.1'], y=df['Thực Hành'])"
      ],
      "execution_count": 12,
      "outputs": [
        {
          "output_type": "execute_result",
          "data": {
            "text/plain": [
              "<seaborn.axisgrid.JointGrid at 0x7f46a1520e80>"
            ]
          },
          "metadata": {
            "tags": []
          },
          "execution_count": 12
        },
        {
          "output_type": "display_data",
          "data": {
            "image/png": "[encoded data removed]",
            "text/plain": [
              "<Figure size 432x432 with 3 Axes>"
            ]
          },
          "metadata": {
            "tags": [],
            "needs_background": "light"
          }
        }
      ]
    },
    {
      "cell_type": "code",
      "metadata": {
        "colab": {
          "base_uri": "https://localhost:8080/",
          "height": 298
        },
        "id": "wKdoHZ0QayfO",
        "outputId": "26c4bafc-34f2-4bdc-db6a-38f796b838fc"
      },
      "source": [
        "sns.boxplot(x=df['Xếp loại'],y=df['Lý Thuyết.1'])"
      ],
      "execution_count": 22,
      "outputs": [
        {
          "output_type": "execute_result",
          "data": {
            "text/plain": [
              "<matplotlib.axes._subplots.AxesSubplot at 0x7f469d78a278>"
            ]
          },
          "metadata": {
            "tags": []
          },
          "execution_count": 22
        },
        {
          "output_type": "display_data",
          "data": {
            "image/png": "[encoded data removed]",
            "text/plain": [
              "<Figure size 432x288 with 1 Axes>"
            ]
          },
          "metadata": {
            "tags": [],
            "needs_background": "light"
          }
        }
      ]
    },
    {
      "cell_type": "code",
      "metadata": {
        "colab": {
          "base_uri": "https://localhost:8080/",
          "height": 298
        },
        "id": "UOzqfnsTa8uq",
        "outputId": "c6416d7c-075d-4807-efe2-7926e7d1cb0a"
      },
      "source": [
        "sns.boxplot(x=df['Xếp loại'],y=df['Thực Hành'])"
      ],
      "execution_count": 23,
      "outputs": [
        {
          "output_type": "execute_result",
          "data": {
            "text/plain": [
              "<matplotlib.axes._subplots.AxesSubplot at 0x7f469d4f95c0>"
            ]
          },
          "metadata": {
            "tags": []
          },
          "execution_count": 23
        },
        {
          "output_type": "display_data",
          "data": {
            "image/png": "[encoded data removed]",
            "text/plain": [
              "<Figure size 432x288 with 1 Axes>"
            ]
          },
          "metadata": {
            "tags": [],
            "needs_background": "light"
          }
        }
      ]
    },
    {
      "cell_type": "code",
      "metadata": {
        "id": "cIiIFBhycAO6"
      },
      "source": [
        ""
      ],
      "execution_count": null,
      "outputs": []
    }
  ]
}